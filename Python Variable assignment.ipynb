{
 "cells": [
  {
   "cell_type": "markdown",
   "id": "a799bcd0-ec99-4794-8c49-2973283966f0",
   "metadata": {},
   "source": [
    "Q1. Write all the conventions being followed while declaring a variable."
   ]
  },
  {
   "cell_type": "markdown",
   "id": "d9dcb05b-5236-441c-b857-d264d1a608d7",
   "metadata": {},
   "source": [
    "Ans:\n",
    "    \n",
    "When declaring a variable, certain conventions should be followed to ensure readability, maintainability, and to adhere to common practices within a programming language or framework. Here are the general conventions:\n",
    "\n",
    "1. Naming Conventions\n",
    "\n",
    "Descriptive Names: Use meaningful and descriptive names that convey the purpose of the variable.\n",
    "\n",
    "Example: userAge instead of a.\n",
    "\n",
    "CamelCase: Common in many languages like JavaScript, Java, and C# for variables and functions.\n",
    "\n",
    "Example: userAge, totalAmount.\n",
    "\n",
    "snake_case: Used in languages like Python for variables and functions.\n",
    "\n",
    "Example: user_age, total_amount.\n",
    "\n",
    "PascalCase: Often used for class names.\n",
    "\n",
    "Example: UserAge, TotalAmount.\n",
    "\n",
    "Hungarian Notation: Prefixes the variable name with a type or intention, though this is less common in modern practices.\n",
    "\n",
    "Example: strUserName, iUserAge.\n",
    "\n",
    "Constant Variables: Typically in all uppercase letters with underscores separating words.\n",
    "\n",
    "Example: MAX_USERS, PI.\n",
    "\n",
    "2. Syntax Conventions\n",
    "\n",
    "Start with a Letter or Underscore: Variable names should begin with a letter (a-z, A-Z) or an underscore (_).\n",
    "\n",
    "Valid: _userAge, userAge.\n",
    "\n",
    "Invalid: 1userAge.\n",
    "\n",
    "No Spaces or Special Characters: Avoid spaces and special characters (except underscore) in variable names.\n",
    "\n",
    "Valid: userAge, user_age.\n",
    "\n",
    "Invalid: user age, user-age.\n",
    "\n",
    "Case Sensitivity: Remember that most programming languages are case-sensitive.\n",
    "\n",
    "userAge and UserAge would be considered different variables."
   ]
  },
  {
   "cell_type": "code",
   "execution_count": null,
   "id": "9bbee1d5-e74a-4ce2-9490-6bf478bc5d63",
   "metadata": {},
   "outputs": [],
   "source": []
  },
  {
   "cell_type": "markdown",
   "id": "0c73729a-ca09-463f-9737-eafe15d353d4",
   "metadata": {},
   "source": [
    "Q2. What will happen if we declare a restricted keyword as a variable?"
   ]
  },
  {
   "cell_type": "markdown",
   "id": "08ad828f-3889-4bdd-92aa-ac1b3389fe2a",
   "metadata": {},
   "source": [
    "Ans:\n",
    "    \n",
    "If a restricted keyword (also known as a reserved word) is used as a variable name, it will typically result in a syntax error or unexpected behavior because reserved words have special meaning in the programming language and are part of its syntax. These keywords are predefined by the language for its control structures, data types, or other functionality."
   ]
  },
  {
   "cell_type": "code",
   "execution_count": null,
   "id": "e48e899f-cb73-4a01-b6a6-52f4a983f064",
   "metadata": {},
   "outputs": [],
   "source": []
  },
  {
   "cell_type": "markdown",
   "id": "8f359e74-6f67-40dd-a668-0f7448706eb0",
   "metadata": {},
   "source": [
    "Q3. Can we actually declare a string as a variable name?"
   ]
  },
  {
   "cell_type": "markdown",
   "id": "793f4e4a-749d-416c-8c8c-f821a13a416b",
   "metadata": {},
   "source": [
    "Ans:\n",
    "    \n",
    "In most programming languages, you cannot directly declare a string as a variable name because variable names (identifiers) must follow specific syntax rules. These rules typically require variable names to be composed of letters, digits, and underscores, starting with a letter or an underscore. Variable names cannot include spaces, punctuation, or other special characters, including quotes that would denote a string."
   ]
  },
  {
   "cell_type": "code",
   "execution_count": null,
   "id": "7f0a0e44-8657-40b9-8199-1f58b6115a4b",
   "metadata": {},
   "outputs": [],
   "source": []
  },
  {
   "cell_type": "markdown",
   "id": "f413e165-2110-4641-a610-b7bf08958d02",
   "metadata": {},
   "source": [
    "Q4. Is it possible for us to declare “_” as a variable? If so, then write an example of it."
   ]
  },
  {
   "cell_type": "code",
   "execution_count": 1,
   "id": "38a6fbe4-8167-48a4-8166-bb76b5d520e0",
   "metadata": {},
   "outputs": [
    {
     "name": "stdout",
     "output_type": "stream",
     "text": [
      "10\n"
     ]
    }
   ],
   "source": [
    "_=10\n",
    "print(_)"
   ]
  },
  {
   "cell_type": "code",
   "execution_count": null,
   "id": "e890615d-c99d-4617-a77c-0477ec0bb1f4",
   "metadata": {},
   "outputs": [],
   "source": []
  },
  {
   "cell_type": "markdown",
   "id": "f2bc3a6f-3bc8-4410-86c5-a4e33d6f953e",
   "metadata": {},
   "source": [
    "Q5. Using an example, explain how the variables in python are dynamic in nature."
   ]
  },
  {
   "cell_type": "code",
   "execution_count": 3,
   "id": "b0415e18-9451-483e-a6f6-7edf6b26c8d7",
   "metadata": {},
   "outputs": [
    {
     "name": "stdout",
     "output_type": "stream",
     "text": [
      "10\n",
      "<class 'int'>\n",
      "Hello, World!\n",
      "<class 'str'>\n",
      "[1, 2, 3, 4, 5]\n",
      "<class 'list'>\n"
     ]
    }
   ],
   "source": [
    "# Initially assigning an integer value to the variable\n",
    "my_variable = 10\n",
    "print(my_variable)        # Output: 10\n",
    "print(type(my_variable))  # Output: <class 'int'>\n",
    "\n",
    "# Reassigning a string value to the same variable\n",
    "my_variable = \"Hello, World!\"\n",
    "print(my_variable)        # Output: Hello, World!\n",
    "print(type(my_variable))  # Output: <class 'str'>\n",
    "\n",
    "# Reassigning a list to the same variable\n",
    "my_variable = [1, 2, 3, 4, 5]\n",
    "print(my_variable)        # Output: [1, 2, 3, 4, 5]\n",
    "print(type(my_variable))  # Output: <class 'list'>\n",
    "\n",
    "\n"
   ]
  },
  {
   "cell_type": "code",
   "execution_count": null,
   "id": "1ead8b46-961e-4db1-a1d6-cda4f5aafbc1",
   "metadata": {},
   "outputs": [],
   "source": []
  }
 ],
 "metadata": {
  "kernelspec": {
   "display_name": "Python 3 (ipykernel)",
   "language": "python",
   "name": "python3"
  },
  "language_info": {
   "codemirror_mode": {
    "name": "ipython",
    "version": 3
   },
   "file_extension": ".py",
   "mimetype": "text/x-python",
   "name": "python",
   "nbconvert_exporter": "python",
   "pygments_lexer": "ipython3",
   "version": "3.10.8"
  }
 },
 "nbformat": 4,
 "nbformat_minor": 5
}
